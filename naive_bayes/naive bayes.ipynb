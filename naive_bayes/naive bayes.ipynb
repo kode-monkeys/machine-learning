{
 "cells": [
  {
   "cell_type": "markdown",
   "metadata": {},
   "source": [
    "<h1>Loading the dataset and cleaning </h1>"
   ]
  },
  {
   "cell_type": "code",
   "execution_count": 3,
   "metadata": {
    "_cell_guid": "979ec564-0185-efb8-ed8a-09bddbc5e10e",
    "_uuid": "1da4b153885ef6050bdae566ea4eccda3d9b28e8"
   },
   "outputs": [
    {
     "data": {
      "text/html": [
       "<div>\n",
       "<style scoped>\n",
       "    .dataframe tbody tr th:only-of-type {\n",
       "        vertical-align: middle;\n",
       "    }\n",
       "\n",
       "    .dataframe tbody tr th {\n",
       "        vertical-align: top;\n",
       "    }\n",
       "\n",
       "    .dataframe thead th {\n",
       "        text-align: right;\n",
       "    }\n",
       "</style>\n",
       "<table border=\"1\" class=\"dataframe\">\n",
       "  <thead>\n",
       "    <tr style=\"text-align: right;\">\n",
       "      <th></th>\n",
       "      <th>datecrawled</th>\n",
       "      <th>name</th>\n",
       "      <th>seller</th>\n",
       "      <th>offertype</th>\n",
       "      <th>price</th>\n",
       "      <th>abtest</th>\n",
       "      <th>vehicletype</th>\n",
       "      <th>yearofregistration</th>\n",
       "      <th>gearbox</th>\n",
       "      <th>powerps</th>\n",
       "      <th>model</th>\n",
       "      <th>kilometer</th>\n",
       "      <th>monthofregistration</th>\n",
       "      <th>fueltype</th>\n",
       "      <th>brand</th>\n",
       "      <th>notrepaireddamage</th>\n",
       "      <th>datecreated</th>\n",
       "      <th>nrofpictures</th>\n",
       "      <th>postalcode</th>\n",
       "      <th>lastseen</th>\n",
       "    </tr>\n",
       "  </thead>\n",
       "  <tbody>\n",
       "    <tr>\n",
       "      <th>0</th>\n",
       "      <td>2016-03-24T11:52:17</td>\n",
       "      <td>Golf_3_1.6</td>\n",
       "      <td>privat</td>\n",
       "      <td>Angebot</td>\n",
       "      <td>480</td>\n",
       "      <td>test</td>\n",
       "      <td>NaN</td>\n",
       "      <td>1993</td>\n",
       "      <td>manuell</td>\n",
       "      <td>0</td>\n",
       "      <td>golf</td>\n",
       "      <td>150000</td>\n",
       "      <td>0</td>\n",
       "      <td>benzin</td>\n",
       "      <td>volkswagen</td>\n",
       "      <td>NaN</td>\n",
       "      <td>2016-03-24T00:00:00</td>\n",
       "      <td>False</td>\n",
       "      <td>70435</td>\n",
       "      <td>2016-04-07T03:16:57</td>\n",
       "    </tr>\n",
       "    <tr>\n",
       "      <th>1</th>\n",
       "      <td>2016-03-24T10:58:45</td>\n",
       "      <td>A5_Sportback_2.7_Tdi</td>\n",
       "      <td>privat</td>\n",
       "      <td>Angebot</td>\n",
       "      <td>18300</td>\n",
       "      <td>test</td>\n",
       "      <td>coupe</td>\n",
       "      <td>2011</td>\n",
       "      <td>manuell</td>\n",
       "      <td>190</td>\n",
       "      <td>NaN</td>\n",
       "      <td>125000</td>\n",
       "      <td>5</td>\n",
       "      <td>diesel</td>\n",
       "      <td>audi</td>\n",
       "      <td>ja</td>\n",
       "      <td>2016-03-24T00:00:00</td>\n",
       "      <td>False</td>\n",
       "      <td>66954</td>\n",
       "      <td>2016-04-07T01:46:50</td>\n",
       "    </tr>\n",
       "    <tr>\n",
       "      <th>2</th>\n",
       "      <td>2016-03-14T12:52:21</td>\n",
       "      <td>Jeep_Grand_Cherokee_\"Overland\"</td>\n",
       "      <td>privat</td>\n",
       "      <td>Angebot</td>\n",
       "      <td>9800</td>\n",
       "      <td>test</td>\n",
       "      <td>suv</td>\n",
       "      <td>2004</td>\n",
       "      <td>automatik</td>\n",
       "      <td>163</td>\n",
       "      <td>grand</td>\n",
       "      <td>125000</td>\n",
       "      <td>8</td>\n",
       "      <td>diesel</td>\n",
       "      <td>jeep</td>\n",
       "      <td>NaN</td>\n",
       "      <td>2016-03-14T00:00:00</td>\n",
       "      <td>False</td>\n",
       "      <td>90480</td>\n",
       "      <td>2016-04-05T12:47:46</td>\n",
       "    </tr>\n",
       "    <tr>\n",
       "      <th>3</th>\n",
       "      <td>2016-03-17T16:54:04</td>\n",
       "      <td>GOLF_4_1_4__3TÃRER</td>\n",
       "      <td>privat</td>\n",
       "      <td>Angebot</td>\n",
       "      <td>1500</td>\n",
       "      <td>test</td>\n",
       "      <td>kleinwagen</td>\n",
       "      <td>2001</td>\n",
       "      <td>manuell</td>\n",
       "      <td>75</td>\n",
       "      <td>golf</td>\n",
       "      <td>150000</td>\n",
       "      <td>6</td>\n",
       "      <td>benzin</td>\n",
       "      <td>volkswagen</td>\n",
       "      <td>nein</td>\n",
       "      <td>2016-03-17T00:00:00</td>\n",
       "      <td>False</td>\n",
       "      <td>91074</td>\n",
       "      <td>2016-03-17T17:40:17</td>\n",
       "    </tr>\n",
       "    <tr>\n",
       "      <th>4</th>\n",
       "      <td>2016-03-31T17:25:20</td>\n",
       "      <td>Skoda_Fabia_1.4_TDI_PD_Classic</td>\n",
       "      <td>privat</td>\n",
       "      <td>Angebot</td>\n",
       "      <td>3600</td>\n",
       "      <td>test</td>\n",
       "      <td>kleinwagen</td>\n",
       "      <td>2008</td>\n",
       "      <td>manuell</td>\n",
       "      <td>69</td>\n",
       "      <td>fabia</td>\n",
       "      <td>90000</td>\n",
       "      <td>7</td>\n",
       "      <td>diesel</td>\n",
       "      <td>skoda</td>\n",
       "      <td>nein</td>\n",
       "      <td>2016-03-31T00:00:00</td>\n",
       "      <td>False</td>\n",
       "      <td>60437</td>\n",
       "      <td>2016-04-06T10:17:21</td>\n",
       "    </tr>\n",
       "    <tr>\n",
       "      <th>5</th>\n",
       "      <td>2016-04-04T17:36:23</td>\n",
       "      <td>BMW_316i___e36_Limousine___Bastlerfahrzeug__Ex...</td>\n",
       "      <td>privat</td>\n",
       "      <td>Angebot</td>\n",
       "      <td>650</td>\n",
       "      <td>test</td>\n",
       "      <td>limousine</td>\n",
       "      <td>1995</td>\n",
       "      <td>manuell</td>\n",
       "      <td>102</td>\n",
       "      <td>3er</td>\n",
       "      <td>150000</td>\n",
       "      <td>10</td>\n",
       "      <td>benzin</td>\n",
       "      <td>bmw</td>\n",
       "      <td>ja</td>\n",
       "      <td>2016-04-04T00:00:00</td>\n",
       "      <td>False</td>\n",
       "      <td>33775</td>\n",
       "      <td>2016-04-06T19:17:07</td>\n",
       "    </tr>\n",
       "    <tr>\n",
       "      <th>6</th>\n",
       "      <td>2016-04-01T20:48:51</td>\n",
       "      <td>Peugeot_206_CC_110_Platinum</td>\n",
       "      <td>privat</td>\n",
       "      <td>Angebot</td>\n",
       "      <td>2200</td>\n",
       "      <td>test</td>\n",
       "      <td>cabrio</td>\n",
       "      <td>2004</td>\n",
       "      <td>manuell</td>\n",
       "      <td>109</td>\n",
       "      <td>2_reihe</td>\n",
       "      <td>150000</td>\n",
       "      <td>8</td>\n",
       "      <td>benzin</td>\n",
       "      <td>peugeot</td>\n",
       "      <td>nein</td>\n",
       "      <td>2016-04-01T00:00:00</td>\n",
       "      <td>False</td>\n",
       "      <td>67112</td>\n",
       "      <td>2016-04-05T18:18:39</td>\n",
       "    </tr>\n",
       "    <tr>\n",
       "      <th>7</th>\n",
       "      <td>2016-03-21T18:54:38</td>\n",
       "      <td>VW_Derby_Bj_80__Scheunenfund</td>\n",
       "      <td>privat</td>\n",
       "      <td>Angebot</td>\n",
       "      <td>0</td>\n",
       "      <td>test</td>\n",
       "      <td>limousine</td>\n",
       "      <td>1980</td>\n",
       "      <td>manuell</td>\n",
       "      <td>50</td>\n",
       "      <td>andere</td>\n",
       "      <td>40000</td>\n",
       "      <td>7</td>\n",
       "      <td>benzin</td>\n",
       "      <td>volkswagen</td>\n",
       "      <td>nein</td>\n",
       "      <td>2016-03-21T00:00:00</td>\n",
       "      <td>False</td>\n",
       "      <td>19348</td>\n",
       "      <td>2016-03-25T16:47:58</td>\n",
       "    </tr>\n",
       "    <tr>\n",
       "      <th>8</th>\n",
       "      <td>2016-04-04T23:42:13</td>\n",
       "      <td>Ford_C___Max_Titanium_1_0_L_EcoBoost</td>\n",
       "      <td>privat</td>\n",
       "      <td>Angebot</td>\n",
       "      <td>14500</td>\n",
       "      <td>control</td>\n",
       "      <td>bus</td>\n",
       "      <td>2014</td>\n",
       "      <td>manuell</td>\n",
       "      <td>125</td>\n",
       "      <td>c_max</td>\n",
       "      <td>30000</td>\n",
       "      <td>8</td>\n",
       "      <td>benzin</td>\n",
       "      <td>ford</td>\n",
       "      <td>NaN</td>\n",
       "      <td>2016-04-04T00:00:00</td>\n",
       "      <td>False</td>\n",
       "      <td>94505</td>\n",
       "      <td>2016-04-04T23:42:13</td>\n",
       "    </tr>\n",
       "    <tr>\n",
       "      <th>9</th>\n",
       "      <td>2016-03-17T10:53:50</td>\n",
       "      <td>VW_Golf_4_5_tuerig_zu_verkaufen_mit_Anhaengerk...</td>\n",
       "      <td>privat</td>\n",
       "      <td>Angebot</td>\n",
       "      <td>999</td>\n",
       "      <td>test</td>\n",
       "      <td>kleinwagen</td>\n",
       "      <td>1998</td>\n",
       "      <td>manuell</td>\n",
       "      <td>101</td>\n",
       "      <td>golf</td>\n",
       "      <td>150000</td>\n",
       "      <td>0</td>\n",
       "      <td>NaN</td>\n",
       "      <td>volkswagen</td>\n",
       "      <td>NaN</td>\n",
       "      <td>2016-03-17T00:00:00</td>\n",
       "      <td>False</td>\n",
       "      <td>27472</td>\n",
       "      <td>2016-03-31T17:17:06</td>\n",
       "    </tr>\n",
       "  </tbody>\n",
       "</table>\n",
       "</div>"
      ],
      "text/plain": [
       "           datecrawled                                               name  \\\n",
       "0  2016-03-24T11:52:17                                         Golf_3_1.6   \n",
       "1  2016-03-24T10:58:45                               A5_Sportback_2.7_Tdi   \n",
       "2  2016-03-14T12:52:21                     Jeep_Grand_Cherokee_\"Overland\"   \n",
       "3  2016-03-17T16:54:04                                GOLF_4_1_4__3TÃRER   \n",
       "4  2016-03-31T17:25:20                     Skoda_Fabia_1.4_TDI_PD_Classic   \n",
       "5  2016-04-04T17:36:23  BMW_316i___e36_Limousine___Bastlerfahrzeug__Ex...   \n",
       "6  2016-04-01T20:48:51                        Peugeot_206_CC_110_Platinum   \n",
       "7  2016-03-21T18:54:38                       VW_Derby_Bj_80__Scheunenfund   \n",
       "8  2016-04-04T23:42:13               Ford_C___Max_Titanium_1_0_L_EcoBoost   \n",
       "9  2016-03-17T10:53:50  VW_Golf_4_5_tuerig_zu_verkaufen_mit_Anhaengerk...   \n",
       "\n",
       "   seller offertype  price   abtest vehicletype  yearofregistration  \\\n",
       "0  privat   Angebot    480     test         NaN                1993   \n",
       "1  privat   Angebot  18300     test       coupe                2011   \n",
       "2  privat   Angebot   9800     test         suv                2004   \n",
       "3  privat   Angebot   1500     test  kleinwagen                2001   \n",
       "4  privat   Angebot   3600     test  kleinwagen                2008   \n",
       "5  privat   Angebot    650     test   limousine                1995   \n",
       "6  privat   Angebot   2200     test      cabrio                2004   \n",
       "7  privat   Angebot      0     test   limousine                1980   \n",
       "8  privat   Angebot  14500  control         bus                2014   \n",
       "9  privat   Angebot    999     test  kleinwagen                1998   \n",
       "\n",
       "     gearbox  powerps    model  kilometer  monthofregistration fueltype  \\\n",
       "0    manuell        0     golf     150000                    0   benzin   \n",
       "1    manuell      190      NaN     125000                    5   diesel   \n",
       "2  automatik      163    grand     125000                    8   diesel   \n",
       "3    manuell       75     golf     150000                    6   benzin   \n",
       "4    manuell       69    fabia      90000                    7   diesel   \n",
       "5    manuell      102      3er     150000                   10   benzin   \n",
       "6    manuell      109  2_reihe     150000                    8   benzin   \n",
       "7    manuell       50   andere      40000                    7   benzin   \n",
       "8    manuell      125    c_max      30000                    8   benzin   \n",
       "9    manuell      101     golf     150000                    0      NaN   \n",
       "\n",
       "        brand notrepaireddamage          datecreated  nrofpictures  \\\n",
       "0  volkswagen               NaN  2016-03-24T00:00:00         False   \n",
       "1        audi                ja  2016-03-24T00:00:00         False   \n",
       "2        jeep               NaN  2016-03-14T00:00:00         False   \n",
       "3  volkswagen              nein  2016-03-17T00:00:00         False   \n",
       "4       skoda              nein  2016-03-31T00:00:00         False   \n",
       "5         bmw                ja  2016-04-04T00:00:00         False   \n",
       "6     peugeot              nein  2016-04-01T00:00:00         False   \n",
       "7  volkswagen              nein  2016-03-21T00:00:00         False   \n",
       "8        ford               NaN  2016-04-04T00:00:00         False   \n",
       "9  volkswagen               NaN  2016-03-17T00:00:00         False   \n",
       "\n",
       "   postalcode             lastseen  \n",
       "0       70435  2016-04-07T03:16:57  \n",
       "1       66954  2016-04-07T01:46:50  \n",
       "2       90480  2016-04-05T12:47:46  \n",
       "3       91074  2016-03-17T17:40:17  \n",
       "4       60437  2016-04-06T10:17:21  \n",
       "5       33775  2016-04-06T19:17:07  \n",
       "6       67112  2016-04-05T18:18:39  \n",
       "7       19348  2016-03-25T16:47:58  \n",
       "8       94505  2016-04-04T23:42:13  \n",
       "9       27472  2016-03-31T17:17:06  "
      ]
     },
     "execution_count": 3,
     "metadata": {},
     "output_type": "execute_result"
    }
   ],
   "source": [
    "import numpy as np \n",
    "import pandas as pd\n",
    "from sklearn.naive_bayes import GaussianNB\n",
    "path='/Users/vjsamuel/kode-monkeys/assignment_4_Logistic_regression/autos.csv'\n",
    "data = pd.read_csv(path, sep=',', encoding='Latin1')\n",
    "data[:10]"
   ]
  },
  {
   "cell_type": "code",
   "execution_count": 4,
   "metadata": {
    "_cell_guid": "99e626fc-ffa4-2405-d2aa-dc7f60ddf203",
    "_uuid": "566ed89e931e85df5a3853962e194c6dd06bd1ea"
   },
   "outputs": [
    {
     "name": "stdout",
     "output_type": "stream",
     "text": [
      "seller\n",
      "gewerblich         3\n",
      "privat        371525\n",
      "dtype: int64\n"
     ]
    }
   ],
   "source": [
    "# Remove nrofpictures column\n",
    "work_data=data.drop('nrofpictures',1)\n",
    "print(data.groupby('seller').size())"
   ]
  },
  {
   "cell_type": "code",
   "execution_count": 5,
   "metadata": {
    "_cell_guid": "aa246f98-a516-8f65-8599-ee89c2f695ad",
    "_uuid": "fed622ba431063568c80699f06ed3fb5c4b05a4e"
   },
   "outputs": [
    {
     "name": "stdout",
     "output_type": "stream",
     "text": [
      "offertype\n",
      "Angebot    371513\n",
      "Gesuch         12\n",
      "dtype: int64\n"
     ]
    }
   ],
   "source": [
    "# Remove seller column\n",
    "work_data = work_data[work_data.seller != 'gewerblich']\n",
    "work_data=work_data.drop('seller',1)\n",
    "print(work_data.groupby('offertype').size())"
   ]
  },
  {
   "cell_type": "code",
   "execution_count": 6,
   "metadata": {
    "_cell_guid": "0c290e8a-6c2b-c849-14c9-019c2ecc70aa",
    "_uuid": "d023c8c4b2e95f9f68d532393b7e6942fe6ef55f"
   },
   "outputs": [
    {
     "name": "stdout",
     "output_type": "stream",
     "text": [
      "233517 different names for all offers\n"
     ]
    }
   ],
   "source": [
    "# Remove offertype column\n",
    "work_data = work_data[work_data.offertype != 'Gesuch']\n",
    "work_data=work_data.drop('offertype',1)\n",
    "#inspecting: name\n",
    "print(len(work_data.groupby('name').size()), 'different names for all offers')"
   ]
  },
  {
   "cell_type": "code",
   "execution_count": 7,
   "metadata": {
    "_cell_guid": "ab9818c7-def6-c7e8-a69f-6f79ecd0f1fe",
    "_uuid": "d88a9c75e2ea3a86a01e9ee91b4d23cfbcd7f90e"
   },
   "outputs": [],
   "source": [
    "# Remove name and abtest column\n",
    "work_data=work_data.drop('name',1)\n",
    "work_data=work_data.drop('abtest',1)"
   ]
  },
  {
   "cell_type": "code",
   "execution_count": 8,
   "metadata": {},
   "outputs": [],
   "source": [
    "# Drop NA inplace\n",
    "work_data.dropna(inplace=True)"
   ]
  },
  {
   "cell_type": "code",
   "execution_count": 16,
   "metadata": {},
   "outputs": [
    {
     "data": {
      "text/plain": [
       "[4, 4, 6, 2, 6]"
      ]
     },
     "execution_count": 16,
     "metadata": {},
     "output_type": "execute_result"
    }
   ],
   "source": [
    "# Create categorical for vehicle type\n",
    "work_data.vehicletype = pd.Categorical(work_data.vehicletype)\n",
    "work_data['vehicletype_coded'] = work_data.vehicletype.cat.codes\n",
    "vehicle_array = work_data['vehicletype_coded'].tolist()\n",
    "vehicle_array[:5]"
   ]
  },
  {
   "cell_type": "code",
   "execution_count": 17,
   "metadata": {},
   "outputs": [
    {
     "data": {
      "text/plain": [
       "[37, 31, 2, 25, 37]"
      ]
     },
     "execution_count": 17,
     "metadata": {},
     "output_type": "execute_result"
    }
   ],
   "source": [
    "# Create categorical for brand type\n",
    "work_data.brand = pd.Categorical(work_data.brand)\n",
    "work_data['brand_coded'] = work_data.brand.cat.codes\n",
    "brand_array = work_data['brand_coded'].tolist()\n",
    "brand_array[:5]"
   ]
  },
  {
   "cell_type": "code",
   "execution_count": 18,
   "metadata": {},
   "outputs": [
    {
     "data": {
      "text/plain": [
       "[118, 103, 11, 8, 40]"
      ]
     },
     "execution_count": 18,
     "metadata": {},
     "output_type": "execute_result"
    }
   ],
   "source": [
    "# Create categorical for model type\n",
    "work_data.model = pd.Categorical(work_data.model)\n",
    "work_data['model_coded'] = work_data.model.cat.codes\n",
    "model_array = work_data['model_coded'].tolist()\n",
    "model_array[:5]"
   ]
  },
  {
   "cell_type": "code",
   "execution_count": 19,
   "metadata": {},
   "outputs": [
    {
     "data": {
      "text/plain": [
       "[(37, 118), (31, 103), (2, 11), (25, 8), (37, 40)]"
      ]
     },
     "execution_count": 19,
     "metadata": {},
     "output_type": "execute_result"
    }
   ],
   "source": [
    "input = zip(brand_array, model_array)\n",
    "ilist = list(input)\n",
    "ilist[:5]"
   ]
  },
  {
   "cell_type": "code",
   "execution_count": 24,
   "metadata": {},
   "outputs": [
    {
     "name": "stdout",
     "output_type": "stream",
     "text": [
      "4    kleinwagen\n",
      "Name: vehicletype, dtype: category\n",
      "Categories (8, object): [andere, bus, cabrio, coupe, kleinwagen, kombi, limousine, suv]\n"
     ]
    }
   ],
   "source": [
    "gnb = GaussianNB()\n",
    "gnb.fit(ilist, vehicle_array)\n",
    "prediction = gnb.predict([[37, 118]])\n",
    "print(work_data.vehicletype[prediction])"
   ]
  },
  {
   "cell_type": "code",
   "execution_count": 22,
   "metadata": {},
   "outputs": [
    {
     "data": {
      "text/plain": [
       "0.35852078942326115"
      ]
     },
     "execution_count": 22,
     "metadata": {},
     "output_type": "execute_result"
    }
   ],
   "source": [
    "gnb.score(ilist, vehicle_array)"
   ]
  },
  {
   "cell_type": "code",
   "execution_count": null,
   "metadata": {},
   "outputs": [],
   "source": []
  }
 ],
 "metadata": {
  "_change_revision": 0,
  "_is_fork": false,
  "kernelspec": {
   "display_name": "Python 3",
   "language": "python",
   "name": "python3"
  },
  "language_info": {
   "codemirror_mode": {
    "name": "ipython",
    "version": 3
   },
   "file_extension": ".py",
   "mimetype": "text/x-python",
   "name": "python",
   "nbconvert_exporter": "python",
   "pygments_lexer": "ipython3",
   "version": "3.6.5"
  }
 },
 "nbformat": 4,
 "nbformat_minor": 1
}
