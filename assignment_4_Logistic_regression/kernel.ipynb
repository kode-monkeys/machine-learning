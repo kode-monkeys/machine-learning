{
 "cells": [
  {
   "cell_type": "markdown",
   "metadata": {},
   "source": [
    "<h1>Loading the dataset and cleaning </h1>"
   ]
  },
  {
   "cell_type": "code",
   "execution_count": 1,
   "metadata": {
    "_cell_guid": "979ec564-0185-efb8-ed8a-09bddbc5e10e",
    "_uuid": "1da4b153885ef6050bdae566ea4eccda3d9b28e8"
   },
   "outputs": [],
   "source": [
    "import numpy as np \n",
    "import pandas as pd\n",
    "import matplotlib.pyplot as plt\n",
    "path=r'autos.csv'\n",
    "data = pd.read_csv(path, sep=',',encoding='Latin1')"
   ]
  },
  {
   "cell_type": "markdown",
   "metadata": {},
   "source": [
    "<h3> 1. Remove records with no pictures. <br> \n",
    "2. Remove non private sellers <br> \n",
    "3. Remove all angebot records <br>\n",
    "4. Remove petitions Gesuch records <br>\n",
    "5. Remove abtest records <br>\n",
    "6. Remove records listed for 100K a car <br>\n",
    "7. Remove records before 18th century and after 2017\n",
    "8. Remove na records</h3>"
   ]
  },
  {
   "cell_type": "code",
   "execution_count": 2,
   "metadata": {
    "_cell_guid": "99e626fc-ffa4-2405-d2aa-dc7f60ddf203",
    "_uuid": "566ed89e931e85df5a3853962e194c6dd06bd1ea"
   },
   "outputs": [
    {
     "name": "stdout",
     "output_type": "stream",
     "text": [
      "seller\n",
      "gewerblich         3\n",
      "privat        371525\n",
      "dtype: int64\n"
     ]
    }
   ],
   "source": [
    "work_data=data.drop('nrOfPictures',1)\n",
    "print(data.groupby('seller').size())"
   ]
  },
  {
   "cell_type": "code",
   "execution_count": 3,
   "metadata": {
    "_cell_guid": "aa246f98-a516-8f65-8599-ee89c2f695ad",
    "_uuid": "fed622ba431063568c80699f06ed3fb5c4b05a4e"
   },
   "outputs": [
    {
     "name": "stdout",
     "output_type": "stream",
     "text": [
      "offerType\n",
      "Angebot    371513\n",
      "Gesuch         12\n",
      "dtype: int64\n"
     ]
    }
   ],
   "source": [
    "work_data = work_data[work_data.seller != 'gewerblich']\n",
    "work_data=work_data.drop('seller',1)\n",
    "print(work_data.groupby('offerType').size())"
   ]
  },
  {
   "cell_type": "code",
   "execution_count": 4,
   "metadata": {
    "_cell_guid": "0c290e8a-6c2b-c849-14c9-019c2ecc70aa",
    "_uuid": "d023c8c4b2e95f9f68d532393b7e6942fe6ef55f"
   },
   "outputs": [
    {
     "name": "stdout",
     "output_type": "stream",
     "text": [
      "233517 different names for all offers\n"
     ]
    }
   ],
   "source": [
    "work_data = work_data[work_data.offerType != 'Gesuch']\n",
    "work_data=work_data.drop('offerType',1)\n",
    "#inspecting: name\n",
    "print(len(work_data.groupby('name').size()), 'different names for all offers')"
   ]
  },
  {
   "cell_type": "code",
   "execution_count": 5,
   "metadata": {
    "_cell_guid": "ab9818c7-def6-c7e8-a69f-6f79ecd0f1fe",
    "_uuid": "d88a9c75e2ea3a86a01e9ee91b4d23cfbcd7f90e"
   },
   "outputs": [],
   "source": [
    "work_data=work_data.drop('name',1)\n",
    "work_data=work_data.drop('abtest',1)"
   ]
  },
  {
   "cell_type": "code",
   "execution_count": 6,
   "metadata": {
    "_cell_guid": "edf7d32c-d1c0-d919-b2af-6f3ea4ecf959",
    "_uuid": "301d4b78333357a6e2a5d9a16f277af4e63b6446"
   },
   "outputs": [
    {
     "data": {
      "image/png": "[encoded data removed]",
      "text/plain": [
       "<Figure size 432x288 with 1 Axes>"
      ]
     },
     "metadata": {},
     "output_type": "display_data"
    },
    {
     "data": {
      "image/png": "[encoded data removed]",
      "text/plain": [
       "<Figure size 432x288 with 1 Axes>"
      ]
     },
     "metadata": {},
     "output_type": "display_data"
    },
    {
     "name": "stdout",
     "output_type": "stream",
     "text": [
      "10772 cars with price 0\n"
     ]
    },
    {
     "data": {
      "image/png": "[encoded data removed]",
      "text/plain": [
       "<Figure size 432x288 with 1 Axes>"
      ]
     },
     "metadata": {},
     "output_type": "display_data"
    }
   ],
   "source": [
    "sample_data=work_data.sample(n=10000, random_state=1)\n",
    "#inspecting: price\n",
    "plt.subplot(3,1,1)\n",
    "sample_data['price'].hist(bins=50)\n",
    "plt.title('Original-Histogram price')\n",
    "plt.show()\n",
    "#There are kinda expensive cars on sale. The owners are slightly overestimating the value I guess.\n",
    "\n",
    "#I'll' cut the price at 100000\n",
    "work_data = work_data[work_data.price < 100000]\n",
    "sample_data=work_data.sample(n=10000, random_state=1)\n",
    "\n",
    "plt.subplot(3,1,2)\n",
    "sample_data['price'].hist(bins=50)\n",
    "plt.title('Cut-Histogram price')\n",
    "plt.show()\n",
    "\n",
    "\n",
    "\n",
    "print(len(work_data[work_data.price == 0]), 'cars with price 0')\n",
    "work_data = work_data[work_data.price != 0]\n",
    "sample_data=work_data.sample(n=10000, random_state=1)\n",
    "\n",
    "plt.subplot(3,1,3)\n",
    "sample_data['price'].hist(bins=50)\n",
    "plt.title('Final-Histogram price')\n",
    "plt.show()\n"
   ]
  },
  {
   "cell_type": "code",
   "execution_count": 7,
   "metadata": {
    "_cell_guid": "d8586d93-d772-f2e1-0640-d7216445946e",
    "_uuid": "f2db7b381d354888024906f895744c35040f9491"
   },
   "outputs": [
    {
     "name": "stdout",
     "output_type": "stream",
     "text": [
      "count    356355.000000\n",
      "mean        116.572558\n",
      "std         186.866013\n",
      "min           0.000000\n",
      "25%          73.000000\n",
      "50%         107.000000\n",
      "75%         150.000000\n",
      "max       20000.000000\n",
      "Name: powerPS, dtype: float64\n"
     ]
    }
   ],
   "source": [
    "work_data = work_data[(work_data.yearOfRegistration >= 1863) & (work_data.yearOfRegistration <= 2017)]\n",
    "print(work_data['powerPS'].describe())"
   ]
  },
  {
   "cell_type": "code",
   "execution_count": 8,
   "metadata": {
    "_cell_guid": "7f7b150b-2543-cdf1-28ec-d04386da6821",
    "_uuid": "e8f3385be175c262119919a2829f526be2d6f1f9"
   },
   "outputs": [],
   "source": [
    "#remove data with engine power > 1000\n",
    "work_data = work_data[(work_data.powerPS > 0) & (work_data.powerPS < 1000)]"
   ]
  },
  {
   "cell_type": "code",
   "execution_count": 9,
   "metadata": {
    "_cell_guid": "a6a2db7f-3193-8473-5b40-c5025360bb9b",
    "_uuid": "44e8692562c59af7e5c1270997d3d4da468c597a"
   },
   "outputs": [
    {
     "name": "stdout",
     "output_type": "stream",
     "text": [
      "count    320213.000000\n",
      "mean        126.058011\n",
      "std          62.167403\n",
      "min           1.000000\n",
      "25%          80.000000\n",
      "50%         116.000000\n",
      "75%         150.000000\n",
      "max         999.000000\n",
      "Name: powerPS, dtype: float64\n"
     ]
    },
    {
     "data": {
      "image/png": "[encoded data removed]",
      "text/plain": [
       "<Figure size 432x288 with 1 Axes>"
      ]
     },
     "metadata": {},
     "output_type": "display_data"
    }
   ],
   "source": [
    "cleaned_data = work_data\n",
    "column_name_you_want_to_inspect='powerPS'\n",
    "print(cleaned_data[column_name_you_want_to_inspect].describe())\n",
    "\n",
    "sample_data=cleaned_data.sample(n=10000, random_state=1)\n",
    "sample_data[column_name_you_want_to_inspect].hist(bins=20)\n",
    "plt.title('Cleaned-Histogram ' + column_name_you_want_to_inspect)\n",
    "plt.show()"
   ]
  },
  {
   "cell_type": "code",
   "execution_count": 10,
   "metadata": {
    "_cell_guid": "d478f06f-264f-bd6f-b070-2912189d2895",
    "_uuid": "5d173aee7ed5df2461b55b1aa8bc6db2c8a87d5f"
   },
   "outputs": [
    {
     "data": {
      "text/html": [
       "<div>\n",
       "<style scoped>\n",
       "    .dataframe tbody tr th:only-of-type {\n",
       "        vertical-align: middle;\n",
       "    }\n",
       "\n",
       "    .dataframe tbody tr th {\n",
       "        vertical-align: top;\n",
       "    }\n",
       "\n",
       "    .dataframe thead th {\n",
       "        text-align: right;\n",
       "    }\n",
       "</style>\n",
       "<table border=\"1\" class=\"dataframe\">\n",
       "  <thead>\n",
       "    <tr style=\"text-align: right;\">\n",
       "      <th></th>\n",
       "      <th>dateCrawled</th>\n",
       "      <th>price</th>\n",
       "      <th>vehicleType</th>\n",
       "      <th>yearOfRegistration</th>\n",
       "      <th>gearbox</th>\n",
       "      <th>powerPS</th>\n",
       "      <th>model</th>\n",
       "      <th>kilometer</th>\n",
       "      <th>monthOfRegistration</th>\n",
       "      <th>fuelType</th>\n",
       "      <th>brand</th>\n",
       "      <th>notRepairedDamage</th>\n",
       "      <th>dateCreated</th>\n",
       "      <th>postalCode</th>\n",
       "      <th>lastSeen</th>\n",
       "    </tr>\n",
       "  </thead>\n",
       "  <tbody>\n",
       "    <tr>\n",
       "      <th>3</th>\n",
       "      <td>2016-03-17 16:54:04</td>\n",
       "      <td>1500</td>\n",
       "      <td>kleinwagen</td>\n",
       "      <td>2001</td>\n",
       "      <td>manuell</td>\n",
       "      <td>75</td>\n",
       "      <td>golf</td>\n",
       "      <td>150000</td>\n",
       "      <td>6</td>\n",
       "      <td>benzin</td>\n",
       "      <td>volkswagen</td>\n",
       "      <td>nein</td>\n",
       "      <td>2016-03-17 00:00:00</td>\n",
       "      <td>91074</td>\n",
       "      <td>2016-03-17 17:40:17</td>\n",
       "    </tr>\n",
       "    <tr>\n",
       "      <th>4</th>\n",
       "      <td>2016-03-31 17:25:20</td>\n",
       "      <td>3600</td>\n",
       "      <td>kleinwagen</td>\n",
       "      <td>2008</td>\n",
       "      <td>manuell</td>\n",
       "      <td>69</td>\n",
       "      <td>fabia</td>\n",
       "      <td>90000</td>\n",
       "      <td>7</td>\n",
       "      <td>diesel</td>\n",
       "      <td>skoda</td>\n",
       "      <td>nein</td>\n",
       "      <td>2016-03-31 00:00:00</td>\n",
       "      <td>60437</td>\n",
       "      <td>2016-04-06 10:17:21</td>\n",
       "    </tr>\n",
       "    <tr>\n",
       "      <th>5</th>\n",
       "      <td>2016-04-04 17:36:23</td>\n",
       "      <td>650</td>\n",
       "      <td>limousine</td>\n",
       "      <td>1995</td>\n",
       "      <td>manuell</td>\n",
       "      <td>102</td>\n",
       "      <td>3er</td>\n",
       "      <td>150000</td>\n",
       "      <td>10</td>\n",
       "      <td>benzin</td>\n",
       "      <td>bmw</td>\n",
       "      <td>ja</td>\n",
       "      <td>2016-04-04 00:00:00</td>\n",
       "      <td>33775</td>\n",
       "      <td>2016-04-06 19:17:07</td>\n",
       "    </tr>\n",
       "    <tr>\n",
       "      <th>6</th>\n",
       "      <td>2016-04-01 20:48:51</td>\n",
       "      <td>2200</td>\n",
       "      <td>cabrio</td>\n",
       "      <td>2004</td>\n",
       "      <td>manuell</td>\n",
       "      <td>109</td>\n",
       "      <td>2_reihe</td>\n",
       "      <td>150000</td>\n",
       "      <td>8</td>\n",
       "      <td>benzin</td>\n",
       "      <td>peugeot</td>\n",
       "      <td>nein</td>\n",
       "      <td>2016-04-01 00:00:00</td>\n",
       "      <td>67112</td>\n",
       "      <td>2016-04-05 18:18:39</td>\n",
       "    </tr>\n",
       "    <tr>\n",
       "      <th>10</th>\n",
       "      <td>2016-03-26 19:54:18</td>\n",
       "      <td>2000</td>\n",
       "      <td>limousine</td>\n",
       "      <td>2004</td>\n",
       "      <td>manuell</td>\n",
       "      <td>105</td>\n",
       "      <td>3_reihe</td>\n",
       "      <td>150000</td>\n",
       "      <td>12</td>\n",
       "      <td>benzin</td>\n",
       "      <td>mazda</td>\n",
       "      <td>nein</td>\n",
       "      <td>2016-03-26 00:00:00</td>\n",
       "      <td>96224</td>\n",
       "      <td>2016-04-06 10:45:34</td>\n",
       "    </tr>\n",
       "  </tbody>\n",
       "</table>\n",
       "</div>"
      ],
      "text/plain": [
       "            dateCrawled  price vehicleType  yearOfRegistration  gearbox  \\\n",
       "3   2016-03-17 16:54:04   1500  kleinwagen                2001  manuell   \n",
       "4   2016-03-31 17:25:20   3600  kleinwagen                2008  manuell   \n",
       "5   2016-04-04 17:36:23    650   limousine                1995  manuell   \n",
       "6   2016-04-01 20:48:51   2200      cabrio                2004  manuell   \n",
       "10  2016-03-26 19:54:18   2000   limousine                2004  manuell   \n",
       "\n",
       "    powerPS    model  kilometer  monthOfRegistration fuelType       brand  \\\n",
       "3        75     golf     150000                    6   benzin  volkswagen   \n",
       "4        69    fabia      90000                    7   diesel       skoda   \n",
       "5       102      3er     150000                   10   benzin         bmw   \n",
       "6       109  2_reihe     150000                    8   benzin     peugeot   \n",
       "10      105  3_reihe     150000                   12   benzin       mazda   \n",
       "\n",
       "   notRepairedDamage          dateCreated  postalCode             lastSeen  \n",
       "3               nein  2016-03-17 00:00:00       91074  2016-03-17 17:40:17  \n",
       "4               nein  2016-03-31 00:00:00       60437  2016-04-06 10:17:21  \n",
       "5                 ja  2016-04-04 00:00:00       33775  2016-04-06 19:17:07  \n",
       "6               nein  2016-04-01 00:00:00       67112  2016-04-05 18:18:39  \n",
       "10              nein  2016-03-26 00:00:00       96224  2016-04-06 10:45:34  "
      ]
     },
     "execution_count": 10,
     "metadata": {},
     "output_type": "execute_result"
    }
   ],
   "source": [
    "#Drop NA \n",
    "superclean_data = cleaned_data.dropna()\n",
    "superclean_data.head()"
   ]
  },
  {
   "cell_type": "code",
   "execution_count": 11,
   "metadata": {},
   "outputs": [
    {
     "data": {
      "text/html": [
       "<div>\n",
       "<style scoped>\n",
       "    .dataframe tbody tr th:only-of-type {\n",
       "        vertical-align: middle;\n",
       "    }\n",
       "\n",
       "    .dataframe tbody tr th {\n",
       "        vertical-align: top;\n",
       "    }\n",
       "\n",
       "    .dataframe thead th {\n",
       "        text-align: right;\n",
       "    }\n",
       "</style>\n",
       "<table border=\"1\" class=\"dataframe\">\n",
       "  <thead>\n",
       "    <tr style=\"text-align: right;\">\n",
       "      <th></th>\n",
       "      <th>dateCrawled</th>\n",
       "      <th>price</th>\n",
       "      <th>vehicleType</th>\n",
       "      <th>yearOfRegistration</th>\n",
       "      <th>gearbox</th>\n",
       "      <th>powerPS</th>\n",
       "      <th>model</th>\n",
       "      <th>kilometer</th>\n",
       "      <th>monthOfRegistration</th>\n",
       "      <th>fuelType</th>\n",
       "      <th>brand</th>\n",
       "      <th>notRepairedDamage</th>\n",
       "      <th>dateCreated</th>\n",
       "      <th>postalCode</th>\n",
       "      <th>lastSeen</th>\n",
       "    </tr>\n",
       "  </thead>\n",
       "  <tbody>\n",
       "    <tr>\n",
       "      <th>3</th>\n",
       "      <td>2016-03-17 16:54:04</td>\n",
       "      <td>1500</td>\n",
       "      <td>kleinwagen</td>\n",
       "      <td>2001</td>\n",
       "      <td>manuell</td>\n",
       "      <td>75</td>\n",
       "      <td>golf</td>\n",
       "      <td>150000</td>\n",
       "      <td>6</td>\n",
       "      <td>benzin</td>\n",
       "      <td>volkswagen</td>\n",
       "      <td>nein</td>\n",
       "      <td>2016-03-17 00:00:00</td>\n",
       "      <td>91074</td>\n",
       "      <td>2016-03-17 17:40:17</td>\n",
       "    </tr>\n",
       "    <tr>\n",
       "      <th>4</th>\n",
       "      <td>2016-03-31 17:25:20</td>\n",
       "      <td>3600</td>\n",
       "      <td>kleinwagen</td>\n",
       "      <td>2008</td>\n",
       "      <td>manuell</td>\n",
       "      <td>69</td>\n",
       "      <td>fabia</td>\n",
       "      <td>90000</td>\n",
       "      <td>7</td>\n",
       "      <td>diesel</td>\n",
       "      <td>skoda</td>\n",
       "      <td>nein</td>\n",
       "      <td>2016-03-31 00:00:00</td>\n",
       "      <td>60437</td>\n",
       "      <td>2016-04-06 10:17:21</td>\n",
       "    </tr>\n",
       "    <tr>\n",
       "      <th>5</th>\n",
       "      <td>2016-04-04 17:36:23</td>\n",
       "      <td>650</td>\n",
       "      <td>limousine</td>\n",
       "      <td>1995</td>\n",
       "      <td>manuell</td>\n",
       "      <td>102</td>\n",
       "      <td>3er</td>\n",
       "      <td>150000</td>\n",
       "      <td>10</td>\n",
       "      <td>benzin</td>\n",
       "      <td>bmw</td>\n",
       "      <td>ja</td>\n",
       "      <td>2016-04-04 00:00:00</td>\n",
       "      <td>33775</td>\n",
       "      <td>2016-04-06 19:17:07</td>\n",
       "    </tr>\n",
       "    <tr>\n",
       "      <th>6</th>\n",
       "      <td>2016-04-01 20:48:51</td>\n",
       "      <td>2200</td>\n",
       "      <td>cabrio</td>\n",
       "      <td>2004</td>\n",
       "      <td>manuell</td>\n",
       "      <td>109</td>\n",
       "      <td>2_reihe</td>\n",
       "      <td>150000</td>\n",
       "      <td>8</td>\n",
       "      <td>benzin</td>\n",
       "      <td>peugeot</td>\n",
       "      <td>nein</td>\n",
       "      <td>2016-04-01 00:00:00</td>\n",
       "      <td>67112</td>\n",
       "      <td>2016-04-05 18:18:39</td>\n",
       "    </tr>\n",
       "    <tr>\n",
       "      <th>10</th>\n",
       "      <td>2016-03-26 19:54:18</td>\n",
       "      <td>2000</td>\n",
       "      <td>limousine</td>\n",
       "      <td>2004</td>\n",
       "      <td>manuell</td>\n",
       "      <td>105</td>\n",
       "      <td>3_reihe</td>\n",
       "      <td>150000</td>\n",
       "      <td>12</td>\n",
       "      <td>benzin</td>\n",
       "      <td>mazda</td>\n",
       "      <td>nein</td>\n",
       "      <td>2016-03-26 00:00:00</td>\n",
       "      <td>96224</td>\n",
       "      <td>2016-04-06 10:45:34</td>\n",
       "    </tr>\n",
       "  </tbody>\n",
       "</table>\n",
       "</div>"
      ],
      "text/plain": [
       "            dateCrawled  price vehicleType  yearOfRegistration  gearbox  \\\n",
       "3   2016-03-17 16:54:04   1500  kleinwagen                2001  manuell   \n",
       "4   2016-03-31 17:25:20   3600  kleinwagen                2008  manuell   \n",
       "5   2016-04-04 17:36:23    650   limousine                1995  manuell   \n",
       "6   2016-04-01 20:48:51   2200      cabrio                2004  manuell   \n",
       "10  2016-03-26 19:54:18   2000   limousine                2004  manuell   \n",
       "\n",
       "    powerPS    model  kilometer  monthOfRegistration fuelType       brand  \\\n",
       "3        75     golf     150000                    6   benzin  volkswagen   \n",
       "4        69    fabia      90000                    7   diesel       skoda   \n",
       "5       102      3er     150000                   10   benzin         bmw   \n",
       "6       109  2_reihe     150000                    8   benzin     peugeot   \n",
       "10      105  3_reihe     150000                   12   benzin       mazda   \n",
       "\n",
       "   notRepairedDamage          dateCreated  postalCode             lastSeen  \n",
       "3               nein  2016-03-17 00:00:00       91074  2016-03-17 17:40:17  \n",
       "4               nein  2016-03-31 00:00:00       60437  2016-04-06 10:17:21  \n",
       "5                 ja  2016-04-04 00:00:00       33775  2016-04-06 19:17:07  \n",
       "6               nein  2016-04-01 00:00:00       67112  2016-04-05 18:18:39  \n",
       "10              nein  2016-03-26 00:00:00       96224  2016-04-06 10:45:34  "
      ]
     },
     "execution_count": 11,
     "metadata": {},
     "output_type": "execute_result"
    }
   ],
   "source": [
    "superclean_data.head()"
   ]
  },
  {
   "cell_type": "markdown",
   "metadata": {},
   "source": [
    "<h3> Create numerical feature of how old the car is </h3>"
   ]
  },
  {
   "cell_type": "code",
   "execution_count": 12,
   "metadata": {},
   "outputs": [],
   "source": [
    "pd.options.mode.chained_assignment = None  # default='warn'\n",
    "import math\n",
    "superclean_data['date_crawled']= pd.to_datetime(superclean_data['dateCrawled'])\n",
    "superclean_data['year_registered'] = superclean_data['yearOfRegistration'].apply(lambda x: str(x))\n",
    "superclean_data['month_registered'] = superclean_data['monthOfRegistration'].apply(lambda x: str(x))\n",
    "superclean_data['date_crawled_year']= superclean_data['dateCrawled'].apply(lambda x: int(x.split('-')[0]))\n",
    "\n",
    "superclean_data['yearsOld'] =  superclean_data['date_crawled_year'] - superclean_data['yearOfRegistration'] ;\n",
    "#superclean_data['registration'] = superclean_data['year_registered'] +\"-\" + superclean_data['month_registered'] + \"-01\" "
   ]
  },
  {
   "cell_type": "markdown",
   "metadata": {},
   "source": [
    "<h3> Create the label based on price 8000 euros. If price is less than 8000 mark it has less expensive </h3>"
   ]
  },
  {
   "cell_type": "code",
   "execution_count": 13,
   "metadata": {},
   "outputs": [],
   "source": [
    "superclean_data['less_expensive']  = superclean_data['price'].apply(lambda x: 1 if (x <= 8000)  else 0)\n"
   ]
  },
  {
   "cell_type": "markdown",
   "metadata": {},
   "source": [
    "<h3> Creating categorical variables using One-hot-encoding </h3>"
   ]
  },
  {
   "cell_type": "code",
   "execution_count": 14,
   "metadata": {},
   "outputs": [],
   "source": [
    "superclean_data['gearbox_category'] = superclean_data['gearbox'].apply(lambda x: 0 if (x == 'manuell') else 1)\n",
    "data = superclean_data;\n",
    "# there are 7 unique fuel types, we can create a categorical variable for each one of them\n",
    "#array(['benzin', 'diesel', 'lpg', 'andere', 'hybrid', 'cng', 'elektro'],\n",
    "data['benzin'] = data['fuelType'].apply(lambda x : 1 if (x == 'benzin') else 0)\n",
    "data['diesel'] = data['fuelType'].apply(lambda x : 1 if (x == 'diesel') else 0)\n",
    "data['lpg'] = data['fuelType'].apply(lambda x : 1 if (x == 'lpg') else 0)\n",
    "data['andere'] = data['fuelType'].apply(lambda x : 1 if (x == 'andere') else 0)\n",
    "data['hybrid'] = data['fuelType'].apply(lambda x : 1 if (x == 'hybrid') else 0)\n",
    "data['cng'] = data['fuelType'].apply(lambda x : 1 if (x == 'cng') else 0)\n",
    "data['elektro'] = data['fuelType'].apply(lambda x : 1 if (x == 'elektro') else 0)"
   ]
  },
  {
   "cell_type": "code",
   "execution_count": 15,
   "metadata": {},
   "outputs": [],
   "source": [
    "# there are 8 unique vehicle types. We can create a categorical variable for each one of them\n",
    "data['kleinwagen'] = data['vehicleType'].apply(lambda x : 1 if (x == 'kleinwagen') else 0)\n",
    "data['cabrio'] = data['vehicleType'].apply(lambda x : 1 if (x == 'cabrio') else 0)\n",
    "data['limousine'] = data['vehicleType'].apply(lambda x : 1 if (x == 'limousine') else 0)\n",
    "data['kombi'] = data['vehicleType'].apply(lambda x : 1 if (x == 'kombi') else 0)\n",
    "data['suv'] = data['vehicleType'].apply(lambda x : 1 if (x == 'suv') else 0)\n",
    "data['bus'] = data['vehicleType'].apply(lambda x : 1 if (x == 'bus') else 0)\n",
    "data['coupe'] = data['vehicleType'].apply(lambda x : 1 if (x == 'coupe') else 0)"
   ]
  },
  {
   "cell_type": "code",
   "execution_count": 16,
   "metadata": {},
   "outputs": [],
   "source": [
    "# there are 35+ models, we take top models only\n",
    "data['golf'] = data['model'].apply(lambda x : 1 if (x == 'golf') else 0)\n",
    "data['fabia'] = data['model'].apply(lambda x : 1 if (x == 'fabia') else 0)\n",
    "data['3er'] = data['model'].apply(lambda x : 1 if (x == '3er') else 0)\n",
    "data['polo'] = data['model'].apply(lambda x : 1 if (x == 'polo') else 0)\n",
    "data['corsa'] = data['model'].apply(lambda x : 1 if (x == 'corsa') else 0)\n",
    "data['a4'] = data['model'].apply(lambda x : 1 if (x == 'a4') else 0)\n",
    "data['passat'] = data['model'].apply(lambda x : 1 if (x == 'passat') else 0)\n",
    "data['astra'] = data['model'].apply(lambda x : 1 if (x == 'astra') else 0)\n",
    "data['5er'] = data['model'].apply(lambda x : 1 if (x == '5er') else 0)\n",
    "data['c_klasse'] = data['model'].apply(lambda x : 1 if (x == 'c_klasse') else 0)"
   ]
  },
  {
   "cell_type": "code",
   "execution_count": 30,
   "metadata": {},
   "outputs": [],
   "source": [
    "data['volkswagen'] = data['brand'].apply(lambda x : 1 if (x == 'volkswagen') else 0)\n",
    "data['bmw'] = data['brand'].apply(lambda x : 1 if (x == 'bmw') else 0)\n",
    "data['mercedes_benz'] = data['brand'].apply(lambda x : 1 if (x == 'mercedes_benz') else 0)\n",
    "data['skoda'] = data['brand'].apply(lambda x : 1 if (x == 'skoda') else 0)\n",
    "\n",
    "data['opel'] = data['brand'].apply(lambda x : 1 if (x == 'opel') else 0)\n",
    "data['audi'] = data['brand'].apply(lambda x : 1 if (x == 'audi') else 0)\n",
    "\n",
    "data['ford'] = data['brand'].apply(lambda x : 1 if (x == 'ford') else 0)\n",
    "data['renault'] = data['brand'].apply(lambda x : 1 if (x == 'renault') else 0)\n",
    "data['porsche'] = data['brand'].apply(lambda x : 1 if (x == 'porsche') else 0)\n",
    "data['jaguar'] = data['brand'].apply(lambda x : 1 if (x == 'jaguar') else 0)\n",
    "\n",
    "\n",
    "data['repaired'] = data['notRepairedDamage'].apply(lambda x : 0 if (x=='nein') else 1)\n",
    "data['peugeot'] = data['brand'].apply(lambda x : 1 if (x == 'peugeot') else 0)\n",
    "data['fiat'] = data['brand'].apply(lambda x : 1 if (x == 'fiat') else 0)\n",
    "data['seat'] = data['brand'].apply(lambda x : 1 if (x == 'seat') else 0)\n",
    "data['toyota'] = data['brand'].apply(lambda x : 1 if (x == 'toyota') else 0)\n",
    "data['nissan'] = data['brand'].apply(lambda x : 1 if (x == 'nissan') else 0)\n",
    "data['kia'] = data['brand'].apply(lambda x : 1 if (x == 'kia') else 0)\n"
   ]
  },
  {
   "cell_type": "code",
   "execution_count": 31,
   "metadata": {},
   "outputs": [],
   "source": [
    "\n",
    "\n",
    "data['oldandheavilyUsed'] = data['yearsOld'] * data['kilometer']\n",
    "\n",
    "data['oldandheavilyUsedAndDamaged'] = data['yearsOld'] * data['kilometer'] * data['repaired']\n",
    "\n",
    "#pd.Series(superclean_data['brand'],name='A').unique()\n"
   ]
  },
  {
   "cell_type": "markdown",
   "metadata": {},
   "source": [
    "<h3> Feature scaling or feature normalization for Logistic Regression </h3>"
   ]
  },
  {
   "cell_type": "code",
   "execution_count": 36,
   "metadata": {},
   "outputs": [
    {
     "data": {
      "text/html": [
       "<div>\n",
       "<style scoped>\n",
       "    .dataframe tbody tr th:only-of-type {\n",
       "        vertical-align: middle;\n",
       "    }\n",
       "\n",
       "    .dataframe tbody tr th {\n",
       "        vertical-align: top;\n",
       "    }\n",
       "\n",
       "    .dataframe thead th {\n",
       "        text-align: right;\n",
       "    }\n",
       "</style>\n",
       "<table border=\"1\" class=\"dataframe\">\n",
       "  <thead>\n",
       "    <tr style=\"text-align: right;\">\n",
       "      <th></th>\n",
       "      <th>dateCrawled</th>\n",
       "      <th>price</th>\n",
       "      <th>vehicleType</th>\n",
       "      <th>yearOfRegistration</th>\n",
       "      <th>gearbox</th>\n",
       "      <th>powerPS</th>\n",
       "      <th>model</th>\n",
       "      <th>kilometer</th>\n",
       "      <th>monthOfRegistration</th>\n",
       "      <th>fuelType</th>\n",
       "      <th>...</th>\n",
       "      <th>jaguar</th>\n",
       "      <th>repaired</th>\n",
       "      <th>peugeot</th>\n",
       "      <th>fiat</th>\n",
       "      <th>seat</th>\n",
       "      <th>toyota</th>\n",
       "      <th>nissan</th>\n",
       "      <th>kia</th>\n",
       "      <th>oldandheavilyUsed</th>\n",
       "      <th>oldandheavilyUsedAndDamaged</th>\n",
       "    </tr>\n",
       "  </thead>\n",
       "  <tbody>\n",
       "    <tr>\n",
       "      <th>3</th>\n",
       "      <td>2016-03-17 16:54:04</td>\n",
       "      <td>1500</td>\n",
       "      <td>kleinwagen</td>\n",
       "      <td>2001</td>\n",
       "      <td>manuell</td>\n",
       "      <td>75</td>\n",
       "      <td>golf</td>\n",
       "      <td>150000</td>\n",
       "      <td>6</td>\n",
       "      <td>benzin</td>\n",
       "      <td>...</td>\n",
       "      <td>0</td>\n",
       "      <td>0</td>\n",
       "      <td>0</td>\n",
       "      <td>0</td>\n",
       "      <td>0</td>\n",
       "      <td>0</td>\n",
       "      <td>0</td>\n",
       "      <td>0</td>\n",
       "      <td>2250000</td>\n",
       "      <td>0</td>\n",
       "    </tr>\n",
       "    <tr>\n",
       "      <th>4</th>\n",
       "      <td>2016-03-31 17:25:20</td>\n",
       "      <td>3600</td>\n",
       "      <td>kleinwagen</td>\n",
       "      <td>2008</td>\n",
       "      <td>manuell</td>\n",
       "      <td>69</td>\n",
       "      <td>fabia</td>\n",
       "      <td>90000</td>\n",
       "      <td>7</td>\n",
       "      <td>diesel</td>\n",
       "      <td>...</td>\n",
       "      <td>0</td>\n",
       "      <td>0</td>\n",
       "      <td>0</td>\n",
       "      <td>0</td>\n",
       "      <td>0</td>\n",
       "      <td>0</td>\n",
       "      <td>0</td>\n",
       "      <td>0</td>\n",
       "      <td>720000</td>\n",
       "      <td>0</td>\n",
       "    </tr>\n",
       "    <tr>\n",
       "      <th>5</th>\n",
       "      <td>2016-04-04 17:36:23</td>\n",
       "      <td>650</td>\n",
       "      <td>limousine</td>\n",
       "      <td>1995</td>\n",
       "      <td>manuell</td>\n",
       "      <td>102</td>\n",
       "      <td>3er</td>\n",
       "      <td>150000</td>\n",
       "      <td>10</td>\n",
       "      <td>benzin</td>\n",
       "      <td>...</td>\n",
       "      <td>0</td>\n",
       "      <td>1</td>\n",
       "      <td>0</td>\n",
       "      <td>0</td>\n",
       "      <td>0</td>\n",
       "      <td>0</td>\n",
       "      <td>0</td>\n",
       "      <td>0</td>\n",
       "      <td>3150000</td>\n",
       "      <td>3150000</td>\n",
       "    </tr>\n",
       "    <tr>\n",
       "      <th>6</th>\n",
       "      <td>2016-04-01 20:48:51</td>\n",
       "      <td>2200</td>\n",
       "      <td>cabrio</td>\n",
       "      <td>2004</td>\n",
       "      <td>manuell</td>\n",
       "      <td>109</td>\n",
       "      <td>2_reihe</td>\n",
       "      <td>150000</td>\n",
       "      <td>8</td>\n",
       "      <td>benzin</td>\n",
       "      <td>...</td>\n",
       "      <td>0</td>\n",
       "      <td>0</td>\n",
       "      <td>1</td>\n",
       "      <td>0</td>\n",
       "      <td>0</td>\n",
       "      <td>0</td>\n",
       "      <td>0</td>\n",
       "      <td>0</td>\n",
       "      <td>1800000</td>\n",
       "      <td>0</td>\n",
       "    </tr>\n",
       "    <tr>\n",
       "      <th>10</th>\n",
       "      <td>2016-03-26 19:54:18</td>\n",
       "      <td>2000</td>\n",
       "      <td>limousine</td>\n",
       "      <td>2004</td>\n",
       "      <td>manuell</td>\n",
       "      <td>105</td>\n",
       "      <td>3_reihe</td>\n",
       "      <td>150000</td>\n",
       "      <td>12</td>\n",
       "      <td>benzin</td>\n",
       "      <td>...</td>\n",
       "      <td>0</td>\n",
       "      <td>0</td>\n",
       "      <td>0</td>\n",
       "      <td>0</td>\n",
       "      <td>0</td>\n",
       "      <td>0</td>\n",
       "      <td>0</td>\n",
       "      <td>0</td>\n",
       "      <td>1800000</td>\n",
       "      <td>0</td>\n",
       "    </tr>\n",
       "  </tbody>\n",
       "</table>\n",
       "<p>5 rows × 65 columns</p>\n",
       "</div>"
      ],
      "text/plain": [
       "            dateCrawled  price vehicleType  yearOfRegistration  gearbox  \\\n",
       "3   2016-03-17 16:54:04   1500  kleinwagen                2001  manuell   \n",
       "4   2016-03-31 17:25:20   3600  kleinwagen                2008  manuell   \n",
       "5   2016-04-04 17:36:23    650   limousine                1995  manuell   \n",
       "6   2016-04-01 20:48:51   2200      cabrio                2004  manuell   \n",
       "10  2016-03-26 19:54:18   2000   limousine                2004  manuell   \n",
       "\n",
       "    powerPS    model  kilometer  monthOfRegistration fuelType  \\\n",
       "3        75     golf     150000                    6   benzin   \n",
       "4        69    fabia      90000                    7   diesel   \n",
       "5       102      3er     150000                   10   benzin   \n",
       "6       109  2_reihe     150000                    8   benzin   \n",
       "10      105  3_reihe     150000                   12   benzin   \n",
       "\n",
       "               ...              jaguar repaired peugeot  fiat seat toyota  \\\n",
       "3              ...                   0        0       0     0    0      0   \n",
       "4              ...                   0        0       0     0    0      0   \n",
       "5              ...                   0        1       0     0    0      0   \n",
       "6              ...                   0        0       1     0    0      0   \n",
       "10             ...                   0        0       0     0    0      0   \n",
       "\n",
       "   nissan kia  oldandheavilyUsed  oldandheavilyUsedAndDamaged  \n",
       "3       0   0            2250000                            0  \n",
       "4       0   0             720000                            0  \n",
       "5       0   0            3150000                      3150000  \n",
       "6       0   0            1800000                            0  \n",
       "10      0   0            1800000                            0  \n",
       "\n",
       "[5 rows x 65 columns]"
      ]
     },
     "execution_count": 36,
     "metadata": {},
     "output_type": "execute_result"
    }
   ],
   "source": [
    "#feature scaling \n",
    "\n",
    "from sklearn import preprocessing\n",
    "\n",
    "scaler = preprocessing.MinMaxScaler()\n",
    "data.dtypes\n",
    "label_field = ['less_expensive']\n",
    "Y = data[label_field]\n",
    "training_fields = ['less_expensive','powerPS', 'kilometer', 'yearsOld', 'repaired']\n",
    "training_fields = ['less_expensive','oldandheavilyUsedAndDamaged','peugeot', 'kia','fiat','seat','toyota','nissan','skoda','jaguar','porsche','oldandheavilyUsed','powerPS', 'kilometer', 'yearsOld', 'gearbox_category',\"benzin\",\"diesel\",\"lpg\",\"andere\",\"hybrid\",\"cng\",\"elektro\",\"kleinwagen\",\"cabrio\",\"limousine\",\"kombi\",\"suv\",\"bus\",\"coupe\",\"golf\",\"fabia\",\"3er\",\"polo\",\"corsa\",\"a4\",\"passat\",\"astra\",\"5er\",\"c_klasse\",\"volkswagen\",\"bmw\",\"mercedes_benz\",\"opel\",\"audi\",\"ford\",\"renault\",\"repaired\"]\n",
    "#training_fields = ['less_expensive','powerPS', 'kilometer', 'yearsOld', 'repaired']\n",
    "\n",
    "X = data[training_fields]\n",
    "scaled_X = scaler.fit_transform(X)\n",
    "Y_label = scaler.fit_transform(Y)\n",
    "Y_label = pd.DataFrame(Y_label, columns=label_field)\n",
    "scaled_X = pd.DataFrame(scaled_X, columns=training_fields)\n",
    "data.head()\n"
   ]
  },
  {
   "cell_type": "code",
   "execution_count": 37,
   "metadata": {},
   "outputs": [
    {
     "data": {
      "text/plain": [
       "4"
      ]
     },
     "execution_count": 37,
     "metadata": {},
     "output_type": "execute_result"
    }
   ],
   "source": [
    "Y = scaled_X.less_expensive;\n",
    "X_all= scaled_X[training_fields[1:]]\n",
    "training_fields[1:]\n",
    "len(training_fields[1:])"
   ]
  },
  {
   "cell_type": "code",
   "execution_count": 38,
   "metadata": {},
   "outputs": [
    {
     "name": "stdout",
     "output_type": "stream",
     "text": [
      "[LibLinear]LogisticRegression(C=1.0, class_weight=None, dual=False, fit_intercept=True,\n",
      "          intercept_scaling=1, max_iter=100, multi_class='ovr', n_jobs=1,\n",
      "          penalty='l2', random_state=None, solver='liblinear', tol=0.0001,\n",
      "          verbose=1, warm_start=False)\n",
      "Score: 0.8930329191544296\n"
     ]
    }
   ],
   "source": [
    "from sklearn.model_selection import train_test_split\n",
    "from sklearn import linear_model\n",
    "X_train, X_test, y_train, y_test = train_test_split(X_all, Y, test_size=0.4, random_state=0)\n",
    "lm = linear_model.LogisticRegression(verbose=1)\n",
    "model = lm.fit(X_train, y_train)\n",
    "print (model)\n",
    "predictions = lm.predict(X_test)\n",
    "\n",
    "print (\"Score:\", model.score(X_test, y_test))\n"
   ]
  },
  {
   "cell_type": "code",
   "execution_count": 39,
   "metadata": {},
   "outputs": [
    {
     "name": "stdout",
     "output_type": "stream",
     "text": [
      "True positives: 67892.0\n",
      "False positives: 6927.0\n",
      "True Negatives: 20656.0\n",
      "False Negatives: 3681.0\n",
      "precision: 0.9074165653109504\n",
      "recall: 0.9485699914772331\n",
      "f1score: 0.9275370238810864\n"
     ]
    }
   ],
   "source": [
    "predictions = lm.predict(X_test)\n",
    "true_positives = 1.0\n",
    "false_positives = 1.0\n",
    "true_negatives = 1.0\n",
    "false_negatives = 1.0\n",
    "for i in range(0, len(y_test.values)):\n",
    "    if (y_test.values[i] == predictions[i]):\n",
    "        if (predictions[i] == 1.0):\n",
    "            true_positives+=1.0\n",
    "        else:\n",
    "            true_negatives+=1.0\n",
    "    else:\n",
    "        if (predictions[i] == 1.0):\n",
    "            false_positives += 1.0\n",
    "        else:\n",
    "            false_negatives += 1.0\n",
    "            \n",
    "print (\"True positives:\", true_positives)\n",
    "print (\"False positives:\", false_positives)\n",
    "\n",
    "print (\"True Negatives:\", true_negatives)\n",
    "print (\"False Negatives:\", false_negatives)\n",
    "prec = true_positives / (true_positives  + false_positives)\n",
    "recall_score = true_positives / (true_positives  + false_negatives)\n",
    "print (\"precision:\", prec)\n",
    "print (\"recall:\", recall_score)\n",
    "f1score = 2 * prec * recall_score / (prec + recall_score)\n",
    "print (\"f1score:\", f1score)\n"
   ]
  },
  {
   "cell_type": "code",
   "execution_count": null,
   "metadata": {},
   "outputs": [],
   "source": []
  }
 ],
 "metadata": {
  "_change_revision": 0,
  "_is_fork": false,
  "kernelspec": {
   "display_name": "Python 3",
   "language": "python",
   "name": "python3"
  },
  "language_info": {
   "codemirror_mode": {
    "name": "ipython",
    "version": 3
   },
   "file_extension": ".py",
   "mimetype": "text/x-python",
   "name": "python",
   "nbconvert_exporter": "python",
   "pygments_lexer": "ipython3",
   "version": "3.6.0"
  }
 },
 "nbformat": 4,
 "nbformat_minor": 1
}
